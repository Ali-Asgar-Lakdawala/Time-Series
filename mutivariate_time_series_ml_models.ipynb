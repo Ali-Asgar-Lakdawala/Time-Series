{
  "nbformat": 4,
  "nbformat_minor": 0,
  "metadata": {
    "colab": {
      "name": "mutivariate time series ml models.ipynb",
      "provenance": [],
      "collapsed_sections": [],
      "include_colab_link": true
    },
    "kernelspec": {
      "name": "python3",
      "display_name": "Python 3"
    },
    "language_info": {
      "name": "python"
    }
  },
  "cells": [
    {
      "cell_type": "markdown",
      "metadata": {
        "id": "view-in-github",
        "colab_type": "text"
      },
      "source": [
        "<a href=\"https://colab.research.google.com/github/Ali-Asgar-Lakdawala/Time-Series/blob/main/mutivariate_time_series_ml_models.ipynb\" target=\"_parent\"><img src=\"https://colab.research.google.com/assets/colab-badge.svg\" alt=\"Open In Colab\"/></a>"
      ]
    },
    {
      "cell_type": "code",
      "execution_count": 74,
      "metadata": {
        "id": "60xj1i7ckU6p"
      },
      "outputs": [],
      "source": [
        "import pandas as pd\n",
        "df=pd.read_csv('https://raw.githubusercontent.com/Ali-Asgar-Lakdawala/Time-Series/main/time_series_data.csv')"
      ]
    },
    {
      "cell_type": "code",
      "source": [
        "df.drop(['avg_pos_transaction_price_ntl','apparent_temperature_high_week'],axis=1,inplace=True)"
      ],
      "metadata": {
        "id": "KWX0Y4XXlzr1"
      },
      "execution_count": 75,
      "outputs": []
    },
    {
      "cell_type": "code",
      "source": [
        "df['locationkey']=df['locationkey'].apply(str)\n"
      ],
      "metadata": {
        "id": "xkoMCmo7lcIN"
      },
      "execution_count": 76,
      "outputs": []
    },
    {
      "cell_type": "code",
      "source": [
        "df_1=pd.get_dummies(df[['new_sku_three_month_flag','locationkey']])"
      ],
      "metadata": {
        "id": "TOEQV1U4lq4s"
      },
      "execution_count": 77,
      "outputs": []
    },
    {
      "cell_type": "code",
      "source": [
        "df.drop(['new_sku_three_month_flag','locationkey','productkey'],axis=1,inplace=True)"
      ],
      "metadata": {
        "id": "EUE72B2PmAdT"
      },
      "execution_count": 78,
      "outputs": []
    },
    {
      "cell_type": "code",
      "source": [
        "df=pd.concat([df,df_1],axis=1)"
      ],
      "metadata": {
        "id": "AfKfL0efGfvA"
      },
      "execution_count": 79,
      "outputs": []
    },
    {
      "cell_type": "code",
      "source": [
        "df['timekey']=pd.to_datetime(df['timekey'])"
      ],
      "metadata": {
        "id": "SwvMW0wTGHJe"
      },
      "execution_count": 80,
      "outputs": []
    },
    {
      "cell_type": "code",
      "source": [
        "df.info()"
      ],
      "metadata": {
        "colab": {
          "base_uri": "https://localhost:8080/"
        },
        "id": "QTYKlE7BKbQ8",
        "outputId": "1524f1a6-16a8-4b9c-e8e1-6cc38feef6a6"
      },
      "execution_count": 81,
      "outputs": [
        {
          "output_type": "stream",
          "name": "stdout",
          "text": [
            "<class 'pandas.core.frame.DataFrame'>\n",
            "RangeIndex: 1824 entries, 0 to 1823\n",
            "Data columns (total 7 columns):\n",
            " #   Column                      Non-Null Count  Dtype         \n",
            "---  ------                      --------------  -----         \n",
            " 0   timekey                     1824 non-null   datetime64[ns]\n",
            " 1   total_sales_units           1824 non-null   int64         \n",
            " 2   new_sku_three_month_flag_N  1824 non-null   uint8         \n",
            " 3   new_sku_three_month_flag_Y  1824 non-null   uint8         \n",
            " 4   locationkey_11              1824 non-null   uint8         \n",
            " 5   locationkey_3               1824 non-null   uint8         \n",
            " 6   locationkey_7               1824 non-null   uint8         \n",
            "dtypes: datetime64[ns](1), int64(1), uint8(5)\n",
            "memory usage: 37.5 KB\n"
          ]
        }
      ]
    },
    {
      "cell_type": "code",
      "source": [
        "df.timekey.unique()"
      ],
      "metadata": {
        "colab": {
          "base_uri": "https://localhost:8080/"
        },
        "id": "fAsmUqodKwic",
        "outputId": "801f7c79-8013-47e3-825f-1264d5614001"
      },
      "execution_count": 82,
      "outputs": [
        {
          "output_type": "execute_result",
          "data": {
            "text/plain": [
              "array(['2018-01-07T00:00:00.000000000', '2018-01-14T00:00:00.000000000',\n",
              "       '2018-01-21T00:00:00.000000000', '2018-01-28T00:00:00.000000000',\n",
              "       '2018-02-04T00:00:00.000000000', '2018-02-11T00:00:00.000000000',\n",
              "       '2018-02-18T00:00:00.000000000', '2018-02-25T00:00:00.000000000',\n",
              "       '2018-03-04T00:00:00.000000000', '2018-03-11T00:00:00.000000000',\n",
              "       '2018-03-18T00:00:00.000000000', '2018-03-25T00:00:00.000000000',\n",
              "       '2018-04-01T00:00:00.000000000', '2018-04-08T00:00:00.000000000',\n",
              "       '2018-04-15T00:00:00.000000000', '2018-04-22T00:00:00.000000000',\n",
              "       '2018-04-29T00:00:00.000000000', '2018-05-06T00:00:00.000000000',\n",
              "       '2018-05-13T00:00:00.000000000', '2018-05-20T00:00:00.000000000',\n",
              "       '2018-05-27T00:00:00.000000000', '2018-06-03T00:00:00.000000000',\n",
              "       '2018-06-10T00:00:00.000000000', '2018-06-17T00:00:00.000000000',\n",
              "       '2018-06-24T00:00:00.000000000', '2018-07-01T00:00:00.000000000',\n",
              "       '2018-07-08T00:00:00.000000000', '2018-07-15T00:00:00.000000000',\n",
              "       '2018-07-22T00:00:00.000000000', '2018-07-29T00:00:00.000000000',\n",
              "       '2018-08-05T00:00:00.000000000', '2018-08-12T00:00:00.000000000',\n",
              "       '2018-08-19T00:00:00.000000000', '2018-08-26T00:00:00.000000000',\n",
              "       '2018-09-02T00:00:00.000000000', '2018-09-09T00:00:00.000000000',\n",
              "       '2018-09-16T00:00:00.000000000', '2018-09-23T00:00:00.000000000',\n",
              "       '2018-09-30T00:00:00.000000000', '2018-10-07T00:00:00.000000000',\n",
              "       '2018-10-14T00:00:00.000000000', '2018-10-21T00:00:00.000000000',\n",
              "       '2018-10-28T00:00:00.000000000', '2018-11-04T00:00:00.000000000',\n",
              "       '2018-11-11T00:00:00.000000000', '2018-11-18T00:00:00.000000000',\n",
              "       '2018-11-25T00:00:00.000000000', '2018-12-02T00:00:00.000000000',\n",
              "       '2018-12-09T00:00:00.000000000', '2018-12-16T00:00:00.000000000',\n",
              "       '2018-12-23T00:00:00.000000000', '2018-12-30T00:00:00.000000000',\n",
              "       '2019-01-06T00:00:00.000000000', '2019-01-13T00:00:00.000000000',\n",
              "       '2019-01-20T00:00:00.000000000', '2019-01-27T00:00:00.000000000',\n",
              "       '2019-02-03T00:00:00.000000000', '2019-02-10T00:00:00.000000000',\n",
              "       '2019-02-17T00:00:00.000000000', '2019-02-24T00:00:00.000000000',\n",
              "       '2019-03-03T00:00:00.000000000', '2019-03-10T00:00:00.000000000',\n",
              "       '2019-03-17T00:00:00.000000000', '2019-03-24T00:00:00.000000000',\n",
              "       '2019-03-31T00:00:00.000000000', '2019-04-07T00:00:00.000000000',\n",
              "       '2019-04-14T00:00:00.000000000', '2019-04-21T00:00:00.000000000',\n",
              "       '2019-04-28T00:00:00.000000000', '2019-05-05T00:00:00.000000000',\n",
              "       '2019-05-12T00:00:00.000000000', '2019-05-19T00:00:00.000000000',\n",
              "       '2019-05-26T00:00:00.000000000', '2019-06-02T00:00:00.000000000',\n",
              "       '2019-06-09T00:00:00.000000000', '2019-06-16T00:00:00.000000000',\n",
              "       '2019-06-23T00:00:00.000000000', '2019-06-30T00:00:00.000000000',\n",
              "       '2019-07-07T00:00:00.000000000', '2019-07-14T00:00:00.000000000',\n",
              "       '2019-07-21T00:00:00.000000000', '2019-07-28T00:00:00.000000000',\n",
              "       '2019-08-04T00:00:00.000000000', '2019-08-11T00:00:00.000000000',\n",
              "       '2019-08-18T00:00:00.000000000', '2019-08-25T00:00:00.000000000',\n",
              "       '2019-09-01T00:00:00.000000000', '2019-09-08T00:00:00.000000000',\n",
              "       '2019-09-15T00:00:00.000000000', '2019-09-22T00:00:00.000000000',\n",
              "       '2019-09-29T00:00:00.000000000', '2019-10-06T00:00:00.000000000',\n",
              "       '2019-10-13T00:00:00.000000000', '2019-10-20T00:00:00.000000000',\n",
              "       '2019-10-27T00:00:00.000000000', '2019-11-03T00:00:00.000000000',\n",
              "       '2019-11-10T00:00:00.000000000', '2019-11-17T00:00:00.000000000',\n",
              "       '2019-11-24T00:00:00.000000000', '2019-12-01T00:00:00.000000000',\n",
              "       '2019-12-08T00:00:00.000000000', '2019-12-15T00:00:00.000000000',\n",
              "       '2019-12-22T00:00:00.000000000', '2019-12-29T00:00:00.000000000'],\n",
              "      dtype='datetime64[ns]')"
            ]
          },
          "metadata": {},
          "execution_count": 82
        }
      ]
    },
    {
      "cell_type": "code",
      "source": [
        "df=df.groupby(['timekey','new_sku_three_month_flag_N','new_sku_three_month_flag_Y','locationkey_11','locationkey_3','locationkey_7'],as_index=False).sum()"
      ],
      "metadata": {
        "id": "b-69MqTNkkaW"
      },
      "execution_count": 83,
      "outputs": []
    },
    {
      "cell_type": "code",
      "source": [
        "df.info()"
      ],
      "metadata": {
        "colab": {
          "base_uri": "https://localhost:8080/"
        },
        "id": "u4p7iNQ_K6ly",
        "outputId": "d8320b1c-06cd-429b-a78d-7d15dc1a308a"
      },
      "execution_count": 84,
      "outputs": [
        {
          "output_type": "stream",
          "name": "stdout",
          "text": [
            "<class 'pandas.core.frame.DataFrame'>\n",
            "RangeIndex: 380 entries, 0 to 379\n",
            "Data columns (total 7 columns):\n",
            " #   Column                      Non-Null Count  Dtype         \n",
            "---  ------                      --------------  -----         \n",
            " 0   timekey                     380 non-null    datetime64[ns]\n",
            " 1   new_sku_three_month_flag_N  380 non-null    uint64        \n",
            " 2   new_sku_three_month_flag_Y  380 non-null    uint64        \n",
            " 3   locationkey_11              380 non-null    uint64        \n",
            " 4   locationkey_3               380 non-null    uint64        \n",
            " 5   locationkey_7               380 non-null    uint64        \n",
            " 6   total_sales_units           380 non-null    int64         \n",
            "dtypes: datetime64[ns](1), int64(1), uint64(5)\n",
            "memory usage: 20.9 KB\n"
          ]
        }
      ]
    },
    {
      "cell_type": "code",
      "source": [
        "from datetime import datetime,timedelta\n",
        "df.timekey+timedelta(days=-7)"
      ],
      "metadata": {
        "colab": {
          "base_uri": "https://localhost:8080/"
        },
        "id": "3IRw-9VG2bGS",
        "outputId": "f18bc70b-76e4-44db-e3c2-48d4c4f933f5"
      },
      "execution_count": 92,
      "outputs": [
        {
          "output_type": "execute_result",
          "data": {
            "text/plain": [
              "0     2017-12-31\n",
              "1     2017-12-31\n",
              "2     2017-12-31\n",
              "3     2018-01-07\n",
              "4     2018-01-07\n",
              "         ...    \n",
              "375   2019-12-15\n",
              "376   2019-12-15\n",
              "377   2019-12-22\n",
              "378   2019-12-22\n",
              "379   2019-12-22\n",
              "Name: timekey, Length: 380, dtype: datetime64[ns]"
            ]
          },
          "metadata": {},
          "execution_count": 92
        }
      ]
    },
    {
      "cell_type": "code",
      "source": [
        "df_1=df.copy()"
      ],
      "metadata": {
        "id": "665-oVdY4sLu"
      },
      "execution_count": 110,
      "outputs": []
    },
    {
      "cell_type": "code",
      "source": [
        "df_1.timekey=df.timekey+timedelta(days=+7)"
      ],
      "metadata": {
        "id": "j3w4pomS4vsw"
      },
      "execution_count": 111,
      "outputs": []
    },
    {
      "cell_type": "code",
      "source": [
        "df_1.head()"
      ],
      "metadata": {
        "colab": {
          "base_uri": "https://localhost:8080/",
          "height": 206
        },
        "id": "hqJyLDXX4vpY",
        "outputId": "4364f9db-1e4f-4222-d511-15776e59837c"
      },
      "execution_count": 112,
      "outputs": [
        {
          "output_type": "execute_result",
          "data": {
            "text/plain": [
              "     timekey  new_sku_three_month_flag_N  new_sku_three_month_flag_Y  \\\n",
              "0 2018-01-14                           1                           0   \n",
              "1 2018-01-14                           1                           0   \n",
              "2 2018-01-14                           1                           0   \n",
              "3 2018-01-21                           0                           1   \n",
              "4 2018-01-21                           0                           1   \n",
              "\n",
              "   locationkey_11  locationkey_3  locationkey_7  total_sales_units  \n",
              "0               0              0              1                 12  \n",
              "1               0              1              0                 11  \n",
              "2               1              0              0                  7  \n",
              "3               0              0              1                  2  \n",
              "4               0              1              0                  6  "
            ],
            "text/html": [
              "\n",
              "  <div id=\"df-32be3e2c-38f2-4ae9-8c3c-3cb70c8f7c9b\">\n",
              "    <div class=\"colab-df-container\">\n",
              "      <div>\n",
              "<style scoped>\n",
              "    .dataframe tbody tr th:only-of-type {\n",
              "        vertical-align: middle;\n",
              "    }\n",
              "\n",
              "    .dataframe tbody tr th {\n",
              "        vertical-align: top;\n",
              "    }\n",
              "\n",
              "    .dataframe thead th {\n",
              "        text-align: right;\n",
              "    }\n",
              "</style>\n",
              "<table border=\"1\" class=\"dataframe\">\n",
              "  <thead>\n",
              "    <tr style=\"text-align: right;\">\n",
              "      <th></th>\n",
              "      <th>timekey</th>\n",
              "      <th>new_sku_three_month_flag_N</th>\n",
              "      <th>new_sku_three_month_flag_Y</th>\n",
              "      <th>locationkey_11</th>\n",
              "      <th>locationkey_3</th>\n",
              "      <th>locationkey_7</th>\n",
              "      <th>total_sales_units</th>\n",
              "    </tr>\n",
              "  </thead>\n",
              "  <tbody>\n",
              "    <tr>\n",
              "      <th>0</th>\n",
              "      <td>2018-01-14</td>\n",
              "      <td>1</td>\n",
              "      <td>0</td>\n",
              "      <td>0</td>\n",
              "      <td>0</td>\n",
              "      <td>1</td>\n",
              "      <td>12</td>\n",
              "    </tr>\n",
              "    <tr>\n",
              "      <th>1</th>\n",
              "      <td>2018-01-14</td>\n",
              "      <td>1</td>\n",
              "      <td>0</td>\n",
              "      <td>0</td>\n",
              "      <td>1</td>\n",
              "      <td>0</td>\n",
              "      <td>11</td>\n",
              "    </tr>\n",
              "    <tr>\n",
              "      <th>2</th>\n",
              "      <td>2018-01-14</td>\n",
              "      <td>1</td>\n",
              "      <td>0</td>\n",
              "      <td>1</td>\n",
              "      <td>0</td>\n",
              "      <td>0</td>\n",
              "      <td>7</td>\n",
              "    </tr>\n",
              "    <tr>\n",
              "      <th>3</th>\n",
              "      <td>2018-01-21</td>\n",
              "      <td>0</td>\n",
              "      <td>1</td>\n",
              "      <td>0</td>\n",
              "      <td>0</td>\n",
              "      <td>1</td>\n",
              "      <td>2</td>\n",
              "    </tr>\n",
              "    <tr>\n",
              "      <th>4</th>\n",
              "      <td>2018-01-21</td>\n",
              "      <td>0</td>\n",
              "      <td>1</td>\n",
              "      <td>0</td>\n",
              "      <td>1</td>\n",
              "      <td>0</td>\n",
              "      <td>6</td>\n",
              "    </tr>\n",
              "  </tbody>\n",
              "</table>\n",
              "</div>\n",
              "      <button class=\"colab-df-convert\" onclick=\"convertToInteractive('df-32be3e2c-38f2-4ae9-8c3c-3cb70c8f7c9b')\"\n",
              "              title=\"Convert this dataframe to an interactive table.\"\n",
              "              style=\"display:none;\">\n",
              "        \n",
              "  <svg xmlns=\"http://www.w3.org/2000/svg\" height=\"24px\"viewBox=\"0 0 24 24\"\n",
              "       width=\"24px\">\n",
              "    <path d=\"M0 0h24v24H0V0z\" fill=\"none\"/>\n",
              "    <path d=\"M18.56 5.44l.94 2.06.94-2.06 2.06-.94-2.06-.94-.94-2.06-.94 2.06-2.06.94zm-11 1L8.5 8.5l.94-2.06 2.06-.94-2.06-.94L8.5 2.5l-.94 2.06-2.06.94zm10 10l.94 2.06.94-2.06 2.06-.94-2.06-.94-.94-2.06-.94 2.06-2.06.94z\"/><path d=\"M17.41 7.96l-1.37-1.37c-.4-.4-.92-.59-1.43-.59-.52 0-1.04.2-1.43.59L10.3 9.45l-7.72 7.72c-.78.78-.78 2.05 0 2.83L4 21.41c.39.39.9.59 1.41.59.51 0 1.02-.2 1.41-.59l7.78-7.78 2.81-2.81c.8-.78.8-2.07 0-2.86zM5.41 20L4 18.59l7.72-7.72 1.47 1.35L5.41 20z\"/>\n",
              "  </svg>\n",
              "      </button>\n",
              "      \n",
              "  <style>\n",
              "    .colab-df-container {\n",
              "      display:flex;\n",
              "      flex-wrap:wrap;\n",
              "      gap: 12px;\n",
              "    }\n",
              "\n",
              "    .colab-df-convert {\n",
              "      background-color: #E8F0FE;\n",
              "      border: none;\n",
              "      border-radius: 50%;\n",
              "      cursor: pointer;\n",
              "      display: none;\n",
              "      fill: #1967D2;\n",
              "      height: 32px;\n",
              "      padding: 0 0 0 0;\n",
              "      width: 32px;\n",
              "    }\n",
              "\n",
              "    .colab-df-convert:hover {\n",
              "      background-color: #E2EBFA;\n",
              "      box-shadow: 0px 1px 2px rgba(60, 64, 67, 0.3), 0px 1px 3px 1px rgba(60, 64, 67, 0.15);\n",
              "      fill: #174EA6;\n",
              "    }\n",
              "\n",
              "    [theme=dark] .colab-df-convert {\n",
              "      background-color: #3B4455;\n",
              "      fill: #D2E3FC;\n",
              "    }\n",
              "\n",
              "    [theme=dark] .colab-df-convert:hover {\n",
              "      background-color: #434B5C;\n",
              "      box-shadow: 0px 1px 3px 1px rgba(0, 0, 0, 0.15);\n",
              "      filter: drop-shadow(0px 1px 2px rgba(0, 0, 0, 0.3));\n",
              "      fill: #FFFFFF;\n",
              "    }\n",
              "  </style>\n",
              "\n",
              "      <script>\n",
              "        const buttonEl =\n",
              "          document.querySelector('#df-32be3e2c-38f2-4ae9-8c3c-3cb70c8f7c9b button.colab-df-convert');\n",
              "        buttonEl.style.display =\n",
              "          google.colab.kernel.accessAllowed ? 'block' : 'none';\n",
              "\n",
              "        async function convertToInteractive(key) {\n",
              "          const element = document.querySelector('#df-32be3e2c-38f2-4ae9-8c3c-3cb70c8f7c9b');\n",
              "          const dataTable =\n",
              "            await google.colab.kernel.invokeFunction('convertToInteractive',\n",
              "                                                     [key], {});\n",
              "          if (!dataTable) return;\n",
              "\n",
              "          const docLinkHtml = 'Like what you see? Visit the ' +\n",
              "            '<a target=\"_blank\" href=https://colab.research.google.com/notebooks/data_table.ipynb>data table notebook</a>'\n",
              "            + ' to learn more about interactive tables.';\n",
              "          element.innerHTML = '';\n",
              "          dataTable['output_type'] = 'display_data';\n",
              "          await google.colab.output.renderOutput(dataTable, element);\n",
              "          const docLink = document.createElement('div');\n",
              "          docLink.innerHTML = docLinkHtml;\n",
              "          element.appendChild(docLink);\n",
              "        }\n",
              "      </script>\n",
              "    </div>\n",
              "  </div>\n",
              "  "
            ]
          },
          "metadata": {},
          "execution_count": 112
        }
      ]
    },
    {
      "cell_type": "code",
      "source": [
        "df.head()"
      ],
      "metadata": {
        "colab": {
          "base_uri": "https://localhost:8080/",
          "height": 206
        },
        "id": "uZyV6_1SgNTr",
        "outputId": "84c7253b-bfeb-48f1-9245-6e28263fc0d7"
      },
      "execution_count": 113,
      "outputs": [
        {
          "output_type": "execute_result",
          "data": {
            "text/plain": [
              "     timekey  new_sku_three_month_flag_N  new_sku_three_month_flag_Y  \\\n",
              "0 2018-01-07                           1                           0   \n",
              "1 2018-01-07                           1                           0   \n",
              "2 2018-01-07                           1                           0   \n",
              "3 2018-01-14                           0                           1   \n",
              "4 2018-01-14                           0                           1   \n",
              "\n",
              "   locationkey_11  locationkey_3  locationkey_7  total_sales_units  \n",
              "0               0              0              1                 12  \n",
              "1               0              1              0                 11  \n",
              "2               1              0              0                  7  \n",
              "3               0              0              1                  2  \n",
              "4               0              1              0                  6  "
            ],
            "text/html": [
              "\n",
              "  <div id=\"df-0391b56a-1cf7-4113-9b28-250ad8d61301\">\n",
              "    <div class=\"colab-df-container\">\n",
              "      <div>\n",
              "<style scoped>\n",
              "    .dataframe tbody tr th:only-of-type {\n",
              "        vertical-align: middle;\n",
              "    }\n",
              "\n",
              "    .dataframe tbody tr th {\n",
              "        vertical-align: top;\n",
              "    }\n",
              "\n",
              "    .dataframe thead th {\n",
              "        text-align: right;\n",
              "    }\n",
              "</style>\n",
              "<table border=\"1\" class=\"dataframe\">\n",
              "  <thead>\n",
              "    <tr style=\"text-align: right;\">\n",
              "      <th></th>\n",
              "      <th>timekey</th>\n",
              "      <th>new_sku_three_month_flag_N</th>\n",
              "      <th>new_sku_three_month_flag_Y</th>\n",
              "      <th>locationkey_11</th>\n",
              "      <th>locationkey_3</th>\n",
              "      <th>locationkey_7</th>\n",
              "      <th>total_sales_units</th>\n",
              "    </tr>\n",
              "  </thead>\n",
              "  <tbody>\n",
              "    <tr>\n",
              "      <th>0</th>\n",
              "      <td>2018-01-07</td>\n",
              "      <td>1</td>\n",
              "      <td>0</td>\n",
              "      <td>0</td>\n",
              "      <td>0</td>\n",
              "      <td>1</td>\n",
              "      <td>12</td>\n",
              "    </tr>\n",
              "    <tr>\n",
              "      <th>1</th>\n",
              "      <td>2018-01-07</td>\n",
              "      <td>1</td>\n",
              "      <td>0</td>\n",
              "      <td>0</td>\n",
              "      <td>1</td>\n",
              "      <td>0</td>\n",
              "      <td>11</td>\n",
              "    </tr>\n",
              "    <tr>\n",
              "      <th>2</th>\n",
              "      <td>2018-01-07</td>\n",
              "      <td>1</td>\n",
              "      <td>0</td>\n",
              "      <td>1</td>\n",
              "      <td>0</td>\n",
              "      <td>0</td>\n",
              "      <td>7</td>\n",
              "    </tr>\n",
              "    <tr>\n",
              "      <th>3</th>\n",
              "      <td>2018-01-14</td>\n",
              "      <td>0</td>\n",
              "      <td>1</td>\n",
              "      <td>0</td>\n",
              "      <td>0</td>\n",
              "      <td>1</td>\n",
              "      <td>2</td>\n",
              "    </tr>\n",
              "    <tr>\n",
              "      <th>4</th>\n",
              "      <td>2018-01-14</td>\n",
              "      <td>0</td>\n",
              "      <td>1</td>\n",
              "      <td>0</td>\n",
              "      <td>1</td>\n",
              "      <td>0</td>\n",
              "      <td>6</td>\n",
              "    </tr>\n",
              "  </tbody>\n",
              "</table>\n",
              "</div>\n",
              "      <button class=\"colab-df-convert\" onclick=\"convertToInteractive('df-0391b56a-1cf7-4113-9b28-250ad8d61301')\"\n",
              "              title=\"Convert this dataframe to an interactive table.\"\n",
              "              style=\"display:none;\">\n",
              "        \n",
              "  <svg xmlns=\"http://www.w3.org/2000/svg\" height=\"24px\"viewBox=\"0 0 24 24\"\n",
              "       width=\"24px\">\n",
              "    <path d=\"M0 0h24v24H0V0z\" fill=\"none\"/>\n",
              "    <path d=\"M18.56 5.44l.94 2.06.94-2.06 2.06-.94-2.06-.94-.94-2.06-.94 2.06-2.06.94zm-11 1L8.5 8.5l.94-2.06 2.06-.94-2.06-.94L8.5 2.5l-.94 2.06-2.06.94zm10 10l.94 2.06.94-2.06 2.06-.94-2.06-.94-.94-2.06-.94 2.06-2.06.94z\"/><path d=\"M17.41 7.96l-1.37-1.37c-.4-.4-.92-.59-1.43-.59-.52 0-1.04.2-1.43.59L10.3 9.45l-7.72 7.72c-.78.78-.78 2.05 0 2.83L4 21.41c.39.39.9.59 1.41.59.51 0 1.02-.2 1.41-.59l7.78-7.78 2.81-2.81c.8-.78.8-2.07 0-2.86zM5.41 20L4 18.59l7.72-7.72 1.47 1.35L5.41 20z\"/>\n",
              "  </svg>\n",
              "      </button>\n",
              "      \n",
              "  <style>\n",
              "    .colab-df-container {\n",
              "      display:flex;\n",
              "      flex-wrap:wrap;\n",
              "      gap: 12px;\n",
              "    }\n",
              "\n",
              "    .colab-df-convert {\n",
              "      background-color: #E8F0FE;\n",
              "      border: none;\n",
              "      border-radius: 50%;\n",
              "      cursor: pointer;\n",
              "      display: none;\n",
              "      fill: #1967D2;\n",
              "      height: 32px;\n",
              "      padding: 0 0 0 0;\n",
              "      width: 32px;\n",
              "    }\n",
              "\n",
              "    .colab-df-convert:hover {\n",
              "      background-color: #E2EBFA;\n",
              "      box-shadow: 0px 1px 2px rgba(60, 64, 67, 0.3), 0px 1px 3px 1px rgba(60, 64, 67, 0.15);\n",
              "      fill: #174EA6;\n",
              "    }\n",
              "\n",
              "    [theme=dark] .colab-df-convert {\n",
              "      background-color: #3B4455;\n",
              "      fill: #D2E3FC;\n",
              "    }\n",
              "\n",
              "    [theme=dark] .colab-df-convert:hover {\n",
              "      background-color: #434B5C;\n",
              "      box-shadow: 0px 1px 3px 1px rgba(0, 0, 0, 0.15);\n",
              "      filter: drop-shadow(0px 1px 2px rgba(0, 0, 0, 0.3));\n",
              "      fill: #FFFFFF;\n",
              "    }\n",
              "  </style>\n",
              "\n",
              "      <script>\n",
              "        const buttonEl =\n",
              "          document.querySelector('#df-0391b56a-1cf7-4113-9b28-250ad8d61301 button.colab-df-convert');\n",
              "        buttonEl.style.display =\n",
              "          google.colab.kernel.accessAllowed ? 'block' : 'none';\n",
              "\n",
              "        async function convertToInteractive(key) {\n",
              "          const element = document.querySelector('#df-0391b56a-1cf7-4113-9b28-250ad8d61301');\n",
              "          const dataTable =\n",
              "            await google.colab.kernel.invokeFunction('convertToInteractive',\n",
              "                                                     [key], {});\n",
              "          if (!dataTable) return;\n",
              "\n",
              "          const docLinkHtml = 'Like what you see? Visit the ' +\n",
              "            '<a target=\"_blank\" href=https://colab.research.google.com/notebooks/data_table.ipynb>data table notebook</a>'\n",
              "            + ' to learn more about interactive tables.';\n",
              "          element.innerHTML = '';\n",
              "          dataTable['output_type'] = 'display_data';\n",
              "          await google.colab.output.renderOutput(dataTable, element);\n",
              "          const docLink = document.createElement('div');\n",
              "          docLink.innerHTML = docLinkHtml;\n",
              "          element.appendChild(docLink);\n",
              "        }\n",
              "      </script>\n",
              "    </div>\n",
              "  </div>\n",
              "  "
            ]
          },
          "metadata": {},
          "execution_count": 113
        }
      ]
    },
    {
      "cell_type": "code",
      "source": [
        "df_1=pd.merge(df,df_1,how=\"left\",on=['timekey','new_sku_three_month_flag_N','new_sku_three_month_flag_Y','locationkey_11','locationkey_3','locationkey_7']).head(20)"
      ],
      "metadata": {
        "id": "GDzCJwFW7JPf"
      },
      "execution_count": 114,
      "outputs": []
    },
    {
      "cell_type": "code",
      "source": [
        "df_1.head()"
      ],
      "metadata": {
        "colab": {
          "base_uri": "https://localhost:8080/",
          "height": 206
        },
        "id": "3yxX09zEDfqq",
        "outputId": "ea476594-84c6-4137-dba1-aa30621596a8"
      },
      "execution_count": 115,
      "outputs": [
        {
          "output_type": "execute_result",
          "data": {
            "text/plain": [
              "     timekey  new_sku_three_month_flag_N  new_sku_three_month_flag_Y  \\\n",
              "0 2018-01-07                           1                           0   \n",
              "1 2018-01-07                           1                           0   \n",
              "2 2018-01-07                           1                           0   \n",
              "3 2018-01-14                           0                           1   \n",
              "4 2018-01-14                           0                           1   \n",
              "\n",
              "   locationkey_11  locationkey_3  locationkey_7  total_sales_units_x  \\\n",
              "0               0              0              1                   12   \n",
              "1               0              1              0                   11   \n",
              "2               1              0              0                    7   \n",
              "3               0              0              1                    2   \n",
              "4               0              1              0                    6   \n",
              "\n",
              "   total_sales_units_y  \n",
              "0                  NaN  \n",
              "1                  NaN  \n",
              "2                  NaN  \n",
              "3                  NaN  \n",
              "4                  NaN  "
            ],
            "text/html": [
              "\n",
              "  <div id=\"df-fec43f56-6ae2-4027-9773-1c74c0b8b89d\">\n",
              "    <div class=\"colab-df-container\">\n",
              "      <div>\n",
              "<style scoped>\n",
              "    .dataframe tbody tr th:only-of-type {\n",
              "        vertical-align: middle;\n",
              "    }\n",
              "\n",
              "    .dataframe tbody tr th {\n",
              "        vertical-align: top;\n",
              "    }\n",
              "\n",
              "    .dataframe thead th {\n",
              "        text-align: right;\n",
              "    }\n",
              "</style>\n",
              "<table border=\"1\" class=\"dataframe\">\n",
              "  <thead>\n",
              "    <tr style=\"text-align: right;\">\n",
              "      <th></th>\n",
              "      <th>timekey</th>\n",
              "      <th>new_sku_three_month_flag_N</th>\n",
              "      <th>new_sku_three_month_flag_Y</th>\n",
              "      <th>locationkey_11</th>\n",
              "      <th>locationkey_3</th>\n",
              "      <th>locationkey_7</th>\n",
              "      <th>total_sales_units_x</th>\n",
              "      <th>total_sales_units_y</th>\n",
              "    </tr>\n",
              "  </thead>\n",
              "  <tbody>\n",
              "    <tr>\n",
              "      <th>0</th>\n",
              "      <td>2018-01-07</td>\n",
              "      <td>1</td>\n",
              "      <td>0</td>\n",
              "      <td>0</td>\n",
              "      <td>0</td>\n",
              "      <td>1</td>\n",
              "      <td>12</td>\n",
              "      <td>NaN</td>\n",
              "    </tr>\n",
              "    <tr>\n",
              "      <th>1</th>\n",
              "      <td>2018-01-07</td>\n",
              "      <td>1</td>\n",
              "      <td>0</td>\n",
              "      <td>0</td>\n",
              "      <td>1</td>\n",
              "      <td>0</td>\n",
              "      <td>11</td>\n",
              "      <td>NaN</td>\n",
              "    </tr>\n",
              "    <tr>\n",
              "      <th>2</th>\n",
              "      <td>2018-01-07</td>\n",
              "      <td>1</td>\n",
              "      <td>0</td>\n",
              "      <td>1</td>\n",
              "      <td>0</td>\n",
              "      <td>0</td>\n",
              "      <td>7</td>\n",
              "      <td>NaN</td>\n",
              "    </tr>\n",
              "    <tr>\n",
              "      <th>3</th>\n",
              "      <td>2018-01-14</td>\n",
              "      <td>0</td>\n",
              "      <td>1</td>\n",
              "      <td>0</td>\n",
              "      <td>0</td>\n",
              "      <td>1</td>\n",
              "      <td>2</td>\n",
              "      <td>NaN</td>\n",
              "    </tr>\n",
              "    <tr>\n",
              "      <th>4</th>\n",
              "      <td>2018-01-14</td>\n",
              "      <td>0</td>\n",
              "      <td>1</td>\n",
              "      <td>0</td>\n",
              "      <td>1</td>\n",
              "      <td>0</td>\n",
              "      <td>6</td>\n",
              "      <td>NaN</td>\n",
              "    </tr>\n",
              "  </tbody>\n",
              "</table>\n",
              "</div>\n",
              "      <button class=\"colab-df-convert\" onclick=\"convertToInteractive('df-fec43f56-6ae2-4027-9773-1c74c0b8b89d')\"\n",
              "              title=\"Convert this dataframe to an interactive table.\"\n",
              "              style=\"display:none;\">\n",
              "        \n",
              "  <svg xmlns=\"http://www.w3.org/2000/svg\" height=\"24px\"viewBox=\"0 0 24 24\"\n",
              "       width=\"24px\">\n",
              "    <path d=\"M0 0h24v24H0V0z\" fill=\"none\"/>\n",
              "    <path d=\"M18.56 5.44l.94 2.06.94-2.06 2.06-.94-2.06-.94-.94-2.06-.94 2.06-2.06.94zm-11 1L8.5 8.5l.94-2.06 2.06-.94-2.06-.94L8.5 2.5l-.94 2.06-2.06.94zm10 10l.94 2.06.94-2.06 2.06-.94-2.06-.94-.94-2.06-.94 2.06-2.06.94z\"/><path d=\"M17.41 7.96l-1.37-1.37c-.4-.4-.92-.59-1.43-.59-.52 0-1.04.2-1.43.59L10.3 9.45l-7.72 7.72c-.78.78-.78 2.05 0 2.83L4 21.41c.39.39.9.59 1.41.59.51 0 1.02-.2 1.41-.59l7.78-7.78 2.81-2.81c.8-.78.8-2.07 0-2.86zM5.41 20L4 18.59l7.72-7.72 1.47 1.35L5.41 20z\"/>\n",
              "  </svg>\n",
              "      </button>\n",
              "      \n",
              "  <style>\n",
              "    .colab-df-container {\n",
              "      display:flex;\n",
              "      flex-wrap:wrap;\n",
              "      gap: 12px;\n",
              "    }\n",
              "\n",
              "    .colab-df-convert {\n",
              "      background-color: #E8F0FE;\n",
              "      border: none;\n",
              "      border-radius: 50%;\n",
              "      cursor: pointer;\n",
              "      display: none;\n",
              "      fill: #1967D2;\n",
              "      height: 32px;\n",
              "      padding: 0 0 0 0;\n",
              "      width: 32px;\n",
              "    }\n",
              "\n",
              "    .colab-df-convert:hover {\n",
              "      background-color: #E2EBFA;\n",
              "      box-shadow: 0px 1px 2px rgba(60, 64, 67, 0.3), 0px 1px 3px 1px rgba(60, 64, 67, 0.15);\n",
              "      fill: #174EA6;\n",
              "    }\n",
              "\n",
              "    [theme=dark] .colab-df-convert {\n",
              "      background-color: #3B4455;\n",
              "      fill: #D2E3FC;\n",
              "    }\n",
              "\n",
              "    [theme=dark] .colab-df-convert:hover {\n",
              "      background-color: #434B5C;\n",
              "      box-shadow: 0px 1px 3px 1px rgba(0, 0, 0, 0.15);\n",
              "      filter: drop-shadow(0px 1px 2px rgba(0, 0, 0, 0.3));\n",
              "      fill: #FFFFFF;\n",
              "    }\n",
              "  </style>\n",
              "\n",
              "      <script>\n",
              "        const buttonEl =\n",
              "          document.querySelector('#df-fec43f56-6ae2-4027-9773-1c74c0b8b89d button.colab-df-convert');\n",
              "        buttonEl.style.display =\n",
              "          google.colab.kernel.accessAllowed ? 'block' : 'none';\n",
              "\n",
              "        async function convertToInteractive(key) {\n",
              "          const element = document.querySelector('#df-fec43f56-6ae2-4027-9773-1c74c0b8b89d');\n",
              "          const dataTable =\n",
              "            await google.colab.kernel.invokeFunction('convertToInteractive',\n",
              "                                                     [key], {});\n",
              "          if (!dataTable) return;\n",
              "\n",
              "          const docLinkHtml = 'Like what you see? Visit the ' +\n",
              "            '<a target=\"_blank\" href=https://colab.research.google.com/notebooks/data_table.ipynb>data table notebook</a>'\n",
              "            + ' to learn more about interactive tables.';\n",
              "          element.innerHTML = '';\n",
              "          dataTable['output_type'] = 'display_data';\n",
              "          await google.colab.output.renderOutput(dataTable, element);\n",
              "          const docLink = document.createElement('div');\n",
              "          docLink.innerHTML = docLinkHtml;\n",
              "          element.appendChild(docLink);\n",
              "        }\n",
              "      </script>\n",
              "    </div>\n",
              "  </div>\n",
              "  "
            ]
          },
          "metadata": {},
          "execution_count": 115
        }
      ]
    },
    {
      "cell_type": "code",
      "source": [
        "df_2=df.copy()\n",
        "df_2.timekey=df.timekey+timedelta(days=+14)\n",
        "df_2=pd.merge(df_1,df_2,how=\"left\",on=['timekey','new_sku_three_month_flag_N','new_sku_three_month_flag_Y','locationkey_11','locationkey_3','locationkey_7']).head(20)"
      ],
      "metadata": {
        "id": "G-TKvxpYAck7"
      },
      "execution_count": 116,
      "outputs": []
    },
    {
      "cell_type": "code",
      "source": [
        "df_3=df.copy()\n",
        "df_3.timekey=df.timekey+timedelta(days=+21)\n",
        "df_3=pd.merge(df_2,df_3,how=\"left\",on=['timekey','new_sku_three_month_flag_N','new_sku_three_month_flag_Y','locationkey_11','locationkey_3','locationkey_7']).head(20)"
      ],
      "metadata": {
        "colab": {
          "base_uri": "https://localhost:8080/"
        },
        "id": "GRkT-llxDkku",
        "outputId": "f827a160-c68e-4ba8-ec28-fca3aad1e128"
      },
      "execution_count": 117,
      "outputs": [
        {
          "output_type": "stream",
          "name": "stderr",
          "text": [
            "/usr/local/lib/python3.7/dist-packages/ipykernel_launcher.py:3: FutureWarning: Passing 'suffixes' which cause duplicate columns {'total_sales_units_x'} in the result is deprecated and will raise a MergeError in a future version.\n",
            "  This is separate from the ipykernel package so we can avoid doing imports until\n"
          ]
        }
      ]
    },
    {
      "cell_type": "code",
      "source": [
        "df_4=df.copy()\n",
        "df_4.timekey=df.timekey+timedelta(days=+28)\n",
        "df_4=pd.merge(df_3,df_4,how=\"left\",on=['timekey','new_sku_three_month_flag_N','new_sku_three_month_flag_Y','locationkey_11','locationkey_3','locationkey_7']).head(20)"
      ],
      "metadata": {
        "id": "N7WLttXmxUv9"
      },
      "execution_count": 118,
      "outputs": []
    },
    {
      "cell_type": "code",
      "source": [
        "df_5=df.copy()\n",
        "df_5.timekey=df.timekey+timedelta(days=+35)\n",
        "df_5=pd.merge(df_4,df_5,how=\"left\",on=['timekey','new_sku_three_month_flag_N','new_sku_three_month_flag_Y','locationkey_11','locationkey_3','locationkey_7']).head(20)"
      ],
      "metadata": {
        "colab": {
          "base_uri": "https://localhost:8080/"
        },
        "id": "-x3jPq9mDvCZ",
        "outputId": "61153afc-5980-4b58-8bf6-8786929ad35f"
      },
      "execution_count": 119,
      "outputs": [
        {
          "output_type": "stream",
          "name": "stderr",
          "text": [
            "/usr/local/lib/python3.7/dist-packages/ipykernel_launcher.py:3: FutureWarning: Passing 'suffixes' which cause duplicate columns {'total_sales_units_x'} in the result is deprecated and will raise a MergeError in a future version.\n",
            "  This is separate from the ipykernel package so we can avoid doing imports until\n"
          ]
        }
      ]
    },
    {
      "cell_type": "code",
      "source": [
        "df_5.head()"
      ],
      "metadata": {
        "colab": {
          "base_uri": "https://localhost:8080/",
          "height": 357
        },
        "id": "buDQ81V8EHLb",
        "outputId": "11322446-969a-4d9c-8fee-775c05e53b44"
      },
      "execution_count": 120,
      "outputs": [
        {
          "output_type": "execute_result",
          "data": {
            "text/plain": [
              "     timekey  new_sku_three_month_flag_N  new_sku_three_month_flag_Y  \\\n",
              "0 2018-01-07                           1                           0   \n",
              "1 2018-01-07                           1                           0   \n",
              "2 2018-01-07                           1                           0   \n",
              "3 2018-01-14                           0                           1   \n",
              "4 2018-01-14                           0                           1   \n",
              "\n",
              "   locationkey_11  locationkey_3  locationkey_7  total_sales_units_x  \\\n",
              "0               0              0              1                   12   \n",
              "1               0              1              0                   11   \n",
              "2               1              0              0                    7   \n",
              "3               0              0              1                    2   \n",
              "4               0              1              0                    6   \n",
              "\n",
              "   total_sales_units_y  total_sales_units_x  total_sales_units_y  \\\n",
              "0                  NaN                  NaN                  NaN   \n",
              "1                  NaN                  NaN                  NaN   \n",
              "2                  NaN                  NaN                  NaN   \n",
              "3                  NaN                  NaN                  NaN   \n",
              "4                  NaN                  NaN                  NaN   \n",
              "\n",
              "   total_sales_units_x  total_sales_units_y  \n",
              "0                  NaN                  NaN  \n",
              "1                  NaN                  NaN  \n",
              "2                  NaN                  NaN  \n",
              "3                  NaN                  NaN  \n",
              "4                  NaN                  NaN  "
            ],
            "text/html": [
              "\n",
              "  <div id=\"df-627a5dea-907c-4ec0-9fb6-7e67d812d02d\">\n",
              "    <div class=\"colab-df-container\">\n",
              "      <div>\n",
              "<style scoped>\n",
              "    .dataframe tbody tr th:only-of-type {\n",
              "        vertical-align: middle;\n",
              "    }\n",
              "\n",
              "    .dataframe tbody tr th {\n",
              "        vertical-align: top;\n",
              "    }\n",
              "\n",
              "    .dataframe thead th {\n",
              "        text-align: right;\n",
              "    }\n",
              "</style>\n",
              "<table border=\"1\" class=\"dataframe\">\n",
              "  <thead>\n",
              "    <tr style=\"text-align: right;\">\n",
              "      <th></th>\n",
              "      <th>timekey</th>\n",
              "      <th>new_sku_three_month_flag_N</th>\n",
              "      <th>new_sku_three_month_flag_Y</th>\n",
              "      <th>locationkey_11</th>\n",
              "      <th>locationkey_3</th>\n",
              "      <th>locationkey_7</th>\n",
              "      <th>total_sales_units_x</th>\n",
              "      <th>total_sales_units_y</th>\n",
              "      <th>total_sales_units_x</th>\n",
              "      <th>total_sales_units_y</th>\n",
              "      <th>total_sales_units_x</th>\n",
              "      <th>total_sales_units_y</th>\n",
              "    </tr>\n",
              "  </thead>\n",
              "  <tbody>\n",
              "    <tr>\n",
              "      <th>0</th>\n",
              "      <td>2018-01-07</td>\n",
              "      <td>1</td>\n",
              "      <td>0</td>\n",
              "      <td>0</td>\n",
              "      <td>0</td>\n",
              "      <td>1</td>\n",
              "      <td>12</td>\n",
              "      <td>NaN</td>\n",
              "      <td>NaN</td>\n",
              "      <td>NaN</td>\n",
              "      <td>NaN</td>\n",
              "      <td>NaN</td>\n",
              "    </tr>\n",
              "    <tr>\n",
              "      <th>1</th>\n",
              "      <td>2018-01-07</td>\n",
              "      <td>1</td>\n",
              "      <td>0</td>\n",
              "      <td>0</td>\n",
              "      <td>1</td>\n",
              "      <td>0</td>\n",
              "      <td>11</td>\n",
              "      <td>NaN</td>\n",
              "      <td>NaN</td>\n",
              "      <td>NaN</td>\n",
              "      <td>NaN</td>\n",
              "      <td>NaN</td>\n",
              "    </tr>\n",
              "    <tr>\n",
              "      <th>2</th>\n",
              "      <td>2018-01-07</td>\n",
              "      <td>1</td>\n",
              "      <td>0</td>\n",
              "      <td>1</td>\n",
              "      <td>0</td>\n",
              "      <td>0</td>\n",
              "      <td>7</td>\n",
              "      <td>NaN</td>\n",
              "      <td>NaN</td>\n",
              "      <td>NaN</td>\n",
              "      <td>NaN</td>\n",
              "      <td>NaN</td>\n",
              "    </tr>\n",
              "    <tr>\n",
              "      <th>3</th>\n",
              "      <td>2018-01-14</td>\n",
              "      <td>0</td>\n",
              "      <td>1</td>\n",
              "      <td>0</td>\n",
              "      <td>0</td>\n",
              "      <td>1</td>\n",
              "      <td>2</td>\n",
              "      <td>NaN</td>\n",
              "      <td>NaN</td>\n",
              "      <td>NaN</td>\n",
              "      <td>NaN</td>\n",
              "      <td>NaN</td>\n",
              "    </tr>\n",
              "    <tr>\n",
              "      <th>4</th>\n",
              "      <td>2018-01-14</td>\n",
              "      <td>0</td>\n",
              "      <td>1</td>\n",
              "      <td>0</td>\n",
              "      <td>1</td>\n",
              "      <td>0</td>\n",
              "      <td>6</td>\n",
              "      <td>NaN</td>\n",
              "      <td>NaN</td>\n",
              "      <td>NaN</td>\n",
              "      <td>NaN</td>\n",
              "      <td>NaN</td>\n",
              "    </tr>\n",
              "  </tbody>\n",
              "</table>\n",
              "</div>\n",
              "      <button class=\"colab-df-convert\" onclick=\"convertToInteractive('df-627a5dea-907c-4ec0-9fb6-7e67d812d02d')\"\n",
              "              title=\"Convert this dataframe to an interactive table.\"\n",
              "              style=\"display:none;\">\n",
              "        \n",
              "  <svg xmlns=\"http://www.w3.org/2000/svg\" height=\"24px\"viewBox=\"0 0 24 24\"\n",
              "       width=\"24px\">\n",
              "    <path d=\"M0 0h24v24H0V0z\" fill=\"none\"/>\n",
              "    <path d=\"M18.56 5.44l.94 2.06.94-2.06 2.06-.94-2.06-.94-.94-2.06-.94 2.06-2.06.94zm-11 1L8.5 8.5l.94-2.06 2.06-.94-2.06-.94L8.5 2.5l-.94 2.06-2.06.94zm10 10l.94 2.06.94-2.06 2.06-.94-2.06-.94-.94-2.06-.94 2.06-2.06.94z\"/><path d=\"M17.41 7.96l-1.37-1.37c-.4-.4-.92-.59-1.43-.59-.52 0-1.04.2-1.43.59L10.3 9.45l-7.72 7.72c-.78.78-.78 2.05 0 2.83L4 21.41c.39.39.9.59 1.41.59.51 0 1.02-.2 1.41-.59l7.78-7.78 2.81-2.81c.8-.78.8-2.07 0-2.86zM5.41 20L4 18.59l7.72-7.72 1.47 1.35L5.41 20z\"/>\n",
              "  </svg>\n",
              "      </button>\n",
              "      \n",
              "  <style>\n",
              "    .colab-df-container {\n",
              "      display:flex;\n",
              "      flex-wrap:wrap;\n",
              "      gap: 12px;\n",
              "    }\n",
              "\n",
              "    .colab-df-convert {\n",
              "      background-color: #E8F0FE;\n",
              "      border: none;\n",
              "      border-radius: 50%;\n",
              "      cursor: pointer;\n",
              "      display: none;\n",
              "      fill: #1967D2;\n",
              "      height: 32px;\n",
              "      padding: 0 0 0 0;\n",
              "      width: 32px;\n",
              "    }\n",
              "\n",
              "    .colab-df-convert:hover {\n",
              "      background-color: #E2EBFA;\n",
              "      box-shadow: 0px 1px 2px rgba(60, 64, 67, 0.3), 0px 1px 3px 1px rgba(60, 64, 67, 0.15);\n",
              "      fill: #174EA6;\n",
              "    }\n",
              "\n",
              "    [theme=dark] .colab-df-convert {\n",
              "      background-color: #3B4455;\n",
              "      fill: #D2E3FC;\n",
              "    }\n",
              "\n",
              "    [theme=dark] .colab-df-convert:hover {\n",
              "      background-color: #434B5C;\n",
              "      box-shadow: 0px 1px 3px 1px rgba(0, 0, 0, 0.15);\n",
              "      filter: drop-shadow(0px 1px 2px rgba(0, 0, 0, 0.3));\n",
              "      fill: #FFFFFF;\n",
              "    }\n",
              "  </style>\n",
              "\n",
              "      <script>\n",
              "        const buttonEl =\n",
              "          document.querySelector('#df-627a5dea-907c-4ec0-9fb6-7e67d812d02d button.colab-df-convert');\n",
              "        buttonEl.style.display =\n",
              "          google.colab.kernel.accessAllowed ? 'block' : 'none';\n",
              "\n",
              "        async function convertToInteractive(key) {\n",
              "          const element = document.querySelector('#df-627a5dea-907c-4ec0-9fb6-7e67d812d02d');\n",
              "          const dataTable =\n",
              "            await google.colab.kernel.invokeFunction('convertToInteractive',\n",
              "                                                     [key], {});\n",
              "          if (!dataTable) return;\n",
              "\n",
              "          const docLinkHtml = 'Like what you see? Visit the ' +\n",
              "            '<a target=\"_blank\" href=https://colab.research.google.com/notebooks/data_table.ipynb>data table notebook</a>'\n",
              "            + ' to learn more about interactive tables.';\n",
              "          element.innerHTML = '';\n",
              "          dataTable['output_type'] = 'display_data';\n",
              "          await google.colab.output.renderOutput(dataTable, element);\n",
              "          const docLink = document.createElement('div');\n",
              "          docLink.innerHTML = docLinkHtml;\n",
              "          element.appendChild(docLink);\n",
              "        }\n",
              "      </script>\n",
              "    </div>\n",
              "  </div>\n",
              "  "
            ]
          },
          "metadata": {},
          "execution_count": 120
        }
      ]
    },
    {
      "cell_type": "code",
      "source": [
        ""
      ],
      "metadata": {
        "id": "PReQ9dCrEKHz"
      },
      "execution_count": 120,
      "outputs": []
    }
  ]
}